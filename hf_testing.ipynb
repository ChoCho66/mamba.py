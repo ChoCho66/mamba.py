{
 "cells": [
  {
   "cell_type": "code",
   "execution_count": 2,
   "metadata": {},
   "outputs": [],
   "source": [
    "import torch\n",
    "from transformers.models.mamba.configuration_mamba import MambaConfig\n",
    "from transformers.models.mamba.modeling_mamba import MambaMixer"
   ]
  },
  {
   "cell_type": "code",
   "execution_count": 3,
   "metadata": {},
   "outputs": [
    {
     "name": "stderr",
     "output_type": "stream",
     "text": [
      "The fast path is not available because on of `(selective_state_update, selective_scan_fn, causal_conv1d_fn, causal_conv1d_update, mamba_inner_fn)` is None. Falling back to the naive implementation. To install follow https://github.com/state-spaces/mamba/#installation and https://github.com/Dao-AILab/causal-conv1d\n"
     ]
    }
   ],
   "source": [
    "config = MambaConfig(vocab_size=60, hidden_size=64, num_hidden_layers=4)\n",
    "mixer = MambaMixer(config, 0)"
   ]
  },
  {
   "cell_type": "code",
   "execution_count": 4,
   "metadata": {},
   "outputs": [],
   "source": [
    "x = torch.randn(2, 12, 64)"
   ]
  },
  {
   "cell_type": "code",
   "execution_count": 5,
   "metadata": {},
   "outputs": [
    {
     "name": "stdout",
     "output_type": "stream",
     "text": [
      "entrées:\n",
      "torch.Size([2, 128, 12, 16])\n",
      "torch.Size([2, 128, 16])\n",
      "torch.Size([2, 128, 12, 16])\n",
      "torch.Size([2, 12, 16])\n",
      "torch.Size([2, 128, 12])\n",
      "torch.Size([128])\n",
      "sorties:\n",
      "torch.Size([2, 128, 16])\n",
      "torch.Size([2, 128, 12])\n"
     ]
    },
    {
     "data": {
      "text/plain": [
       "tensor([[[ 0.0018, -0.0010,  0.0161,  ..., -0.0474, -0.0517, -0.0009],\n",
       "         [-0.0357,  0.0151,  0.0171,  ..., -0.0126,  0.0575,  0.0025],\n",
       "         [ 0.0036,  0.0067,  0.0084,  ...,  0.0484,  0.0826, -0.0805],\n",
       "         ...,\n",
       "         [-0.0156, -0.0210, -0.0622,  ...,  0.0121,  0.0015, -0.0329],\n",
       "         [ 0.0055,  0.0005, -0.0304,  ..., -0.0231,  0.0088, -0.0594],\n",
       "         [ 0.0179,  0.0029, -0.0055,  ...,  0.0560, -0.0105, -0.0253]],\n",
       "\n",
       "        [[ 0.0189, -0.0203,  0.0027,  ...,  0.0301,  0.0392, -0.0024],\n",
       "         [-0.0410,  0.0117,  0.0340,  ...,  0.0493,  0.0688,  0.0220],\n",
       "         [-0.0116,  0.0180, -0.0300,  ...,  0.0201, -0.0242,  0.0187],\n",
       "         ...,\n",
       "         [-0.0279,  0.0084,  0.0024,  ...,  0.0239, -0.0438, -0.0144],\n",
       "         [ 0.0022, -0.0268,  0.0809,  ...,  0.0368, -0.0086,  0.0213],\n",
       "         [-0.0036,  0.0151, -0.0007,  ...,  0.0846,  0.0738, -0.0283]]],\n",
       "       grad_fn=<UnsafeViewBackward0>)"
      ]
     },
     "execution_count": 5,
     "metadata": {},
     "output_type": "execute_result"
    }
   ],
   "source": [
    "mixer(x)"
   ]
  },
  {
   "cell_type": "code",
   "execution_count": null,
   "metadata": {},
   "outputs": [],
   "source": []
  }
 ],
 "metadata": {
  "kernelspec": {
   "display_name": "torch23",
   "language": "python",
   "name": "python3"
  },
  "language_info": {
   "codemirror_mode": {
    "name": "ipython",
    "version": 3
   },
   "file_extension": ".py",
   "mimetype": "text/x-python",
   "name": "python",
   "nbconvert_exporter": "python",
   "pygments_lexer": "ipython3",
   "version": "3.12.2"
  }
 },
 "nbformat": 4,
 "nbformat_minor": 2
}
