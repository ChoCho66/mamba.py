{
 "cells": [
  {
   "cell_type": "code",
   "execution_count": 2,
   "metadata": {},
   "outputs": [
    {
     "name": "stdout",
     "output_type": "stream",
     "text": [
      "\n",
      "=== Testing Conv1d with groups=3 ===\n",
      "Input shape: torch.Size([1, 9, 3])\n",
      "Output shape: torch.Size([1, 6, 3])\n",
      "Weight shape: torch.Size([6, 3, 1])\n",
      "Weights (conv kernel):\n",
      "tensor([[1., 2., 3.],\n",
      "        [1., 2., 3.],\n",
      "        [4., 5., 6.],\n",
      "        [4., 5., 6.],\n",
      "        [7., 8., 9.],\n",
      "        [7., 8., 9.]], grad_fn=<SelectBackward0>)\n",
      "Output:\n",
      "tensor([[  8.,   8.,   8.],\n",
      "        [  8.,   8.,   8.],\n",
      "        [ 62.,  62.,  62.],\n",
      "        [ 62.,  62.,  62.],\n",
      "        [170., 170., 170.],\n",
      "        [170., 170., 170.]], grad_fn=<SliceBackward0>)\n"
     ]
    }
   ],
   "source": [
    "import torch\n",
    "import torch.nn as nn\n",
    "\n",
    "# 設置隨機種子以確保結果可重現\n",
    "torch.manual_seed(42)\n",
    "\n",
    "# 定義輸入數據\n",
    "# 輸入形狀: (batch_size, in_channels, sequence_length) = (1, 9, 3)\n",
    "# 模擬通道 [0, 1, 2, 3, 4, 5, 6, 7, 8]\n",
    "input_data = torch.zeros(1, 9, 3)\n",
    "for i in range(9):\n",
    "    input_data[0, i, :] = i  # 每個通道填充其索引值，例如通道 0 是 [0, 0, 0]，通道 1 是 [1, 1, 1]\n",
    "# input_data[0] = tensor([[0, 0, 0], [1, 1, 1], [2, 2, 2], [3, 3, 3], ..., [8, 8, 8]])\n",
    "\n",
    "# 定義 Conv1d 測試函數\n",
    "def test_conv1d_groups(in_channels=9, out_channels=6, kernel_size=1, groups=3):\n",
    "    print(f\"\\n=== Testing Conv1d with groups={groups} ===\")\n",
    "    \n",
    "    # 檢查整除性\n",
    "    if in_channels % groups != 0:\n",
    "        raise ValueError(f\"in_channels ({in_channels}) must be divisible by groups ({groups})\")\n",
    "    if out_channels % groups != 0:\n",
    "        raise ValueError(f\"out_channels ({out_channels}) must be divisible by groups ({groups})\")\n",
    "    \n",
    "    # 創建 Conv1d 層\n",
    "    conv = nn.Conv1d(in_channels, out_channels, kernel_size, groups=groups, bias=False)\n",
    "    \n",
    "    # 手動設置卷積核權重以便觀察\n",
    "    with torch.no_grad():\n",
    "        conv.weight.zero_()  # 先清零\n",
    "        # 為每個組的卷積核設置可辨識的權重\n",
    "        channels_per_group = in_channels // groups  # 每組 3 個通道\n",
    "        out_channels_per_group = out_channels // groups  # 每組 2 個輸出通道\n",
    "        for g in range(groups):\n",
    "            for oc in range(out_channels_per_group):\n",
    "                oc_idx = g * out_channels_per_group + oc\n",
    "                for ic in range(channels_per_group):\n",
    "                    ic_idx = g * channels_per_group + ic\n",
    "                    conv.weight[oc_idx, ic, 0] = ic_idx + 1  # 權重為通道索引+1，例如通道 0 -> 1，通道 3 -> 4\n",
    "    \n",
    "    # 執行前向傳播\n",
    "    output = conv(input_data)\n",
    "    \n",
    "    # 打印信息\n",
    "    print(f\"Input shape: {input_data.shape}\")\n",
    "    print(f\"Output shape: {output.shape}\")\n",
    "    print(f\"Weight shape: {conv.weight.shape}\")\n",
    "    print(f\"Weights (conv kernel):\\n{conv.weight[:, :, 0]}\")\n",
    "    print(f\"Output:\\n{output[0, :, :]}\")\n",
    "    \n",
    "    return conv, output\n",
    "\n",
    "# 測試 groups=3\n",
    "try:\n",
    "    conv, output = test_conv1d_groups(in_channels=9, out_channels=6, kernel_size=1, groups=3)\n",
    "except ValueError as e:\n",
    "    print(f\"Error: {e}\")"
   ]
  }
 ],
 "metadata": {
  "kernelspec": {
   "display_name": "Python 3",
   "language": "python",
   "name": "python3"
  },
  "language_info": {
   "codemirror_mode": {
    "name": "ipython",
    "version": 3
   },
   "file_extension": ".py",
   "mimetype": "text/x-python",
   "name": "python",
   "nbconvert_exporter": "python",
   "pygments_lexer": "ipython3",
   "version": "3.11.11"
  }
 },
 "nbformat": 4,
 "nbformat_minor": 2
}
