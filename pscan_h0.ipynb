{
 "cells": [
  {
   "cell_type": "code",
   "execution_count": 5,
   "metadata": {},
   "outputs": [],
   "source": [
    "import torch\n",
    "\n",
    "from mambapy.pscan import pscan"
   ]
  },
  {
   "cell_type": "code",
   "execution_count": 6,
   "metadata": {},
   "outputs": [],
   "source": [
    "B, L, D, N = 1, 256, 58, 6\n",
    "cut1 = 74\n",
    "cut2 = 245"
   ]
  },
  {
   "cell_type": "code",
   "execution_count": 3,
   "metadata": {},
   "outputs": [],
   "source": [
    "# full pscan\n",
    "\n",
    "torch.manual_seed(123456)\n",
    "A = torch.randn(B, L, D, N, requires_grad=True)\n",
    "X = torch.randn(B, L, D, N, requires_grad=True)\n",
    "\n",
    "hs = pscan(A, X)\n",
    "\n",
    "J = hs.sum()\n",
    "J.backward()"
   ]
  },
  {
   "cell_type": "code",
   "execution_count": 4,
   "metadata": {},
   "outputs": [],
   "source": [
    "# chunked pscan\n",
    "\n",
    "torch.manual_seed(123456)\n",
    "A_chunks = torch.randn(B, L, D, N, requires_grad=True)\n",
    "X_chunks = torch.randn(B, L, D, N, requires_grad=True)\n",
    "\n",
    "hs_1 = pscan(A_chunks[:, :cut1], X_chunks[:, :cut1])\n",
    "hs_2 = pscan(A_chunks[:, cut1:cut2], X_chunks[:, cut1:cut2], hs_1[:, -1])\n",
    "hs_3 = pscan(A_chunks[:, cut2:], X_chunks[:, cut2:], hs_2[:, -1])\n",
    "\n",
    "hs_chunks = torch.cat([hs_1, hs_2, hs_3], dim=1)\n",
    "\n",
    "J_chunks = hs_chunks.sum()\n",
    "J_chunks.backward()"
   ]
  },
  {
   "cell_type": "code",
   "execution_count": 5,
   "metadata": {},
   "outputs": [
    {
     "name": "stdout",
     "output_type": "stream",
     "text": [
      "True\n",
      "True\n",
      "True\n"
     ]
    }
   ],
   "source": [
    "# checks\n",
    "\n",
    "print(torch.allclose(hs, hs_chunks, rtol=0.001))\n",
    "print(torch.allclose(A.grad, A_chunks.grad, rtol=0.01))\n",
    "print(torch.allclose(X.grad, X_chunks.grad, rtol=0.01))"
   ]
  },
  {
   "cell_type": "code",
   "execution_count": null,
   "metadata": {},
   "outputs": [],
   "source": []
  },
  {
   "cell_type": "code",
   "execution_count": null,
   "metadata": {},
   "outputs": [],
   "source": []
  },
  {
   "cell_type": "code",
   "execution_count": 1,
   "metadata": {},
   "outputs": [],
   "source": [
    "import torch\n",
    "\n",
    "from mambapy.pscan import pscan"
   ]
  },
  {
   "cell_type": "code",
   "execution_count": 2,
   "metadata": {},
   "outputs": [],
   "source": [
    "B, L, D, N = 1, 256, 58, 6"
   ]
  },
  {
   "cell_type": "code",
   "execution_count": 3,
   "metadata": {},
   "outputs": [],
   "source": [
    "# full pscan\n",
    "\n",
    "torch.manual_seed(123456)\n",
    "A = torch.randn(B, L, D, N, requires_grad=True)\n",
    "X = torch.randn(B, L, D, N, requires_grad=True)\n",
    "\n",
    "hs = pscan(A, X)\n",
    "\n",
    "J = hs.sum()\n",
    "J.backward()"
   ]
  },
  {
   "cell_type": "code",
   "execution_count": 6,
   "metadata": {},
   "outputs": [
    {
     "name": "stdout",
     "output_type": "stream",
     "text": [
      "number of chunks: 4 and remainder: 4\n"
     ]
    }
   ],
   "source": [
    "# chunked pscan\n",
    "\n",
    "torch.manual_seed(123456)\n",
    "A_chunks = torch.randn(B, L, D, N, requires_grad=True)\n",
    "X_chunks = torch.randn(B, L, D, N, requires_grad=True)\n",
    "\n",
    "chunk_size = 63 # best is power of 2 minus 1\n",
    "num_chunks = L // chunk_size\n",
    "remainder = L % chunk_size\n",
    "\n",
    "print(f\"number of chunks: {num_chunks} and remainder: {remainder}\")\n",
    "\n",
    "last_hidden = None\n",
    "hs_chunks = []\n",
    "\n",
    "for i in range(num_chunks):\n",
    "    start_idx = i * chunk_size\n",
    "    end_idx = start_idx + chunk_size\n",
    "    A_chunk = A_chunks[:, start_idx:end_idx]\n",
    "    X_chunk = X_chunks[:, start_idx:end_idx]\n",
    "    \n",
    "    # kind of a bug of pytorch : we you send 3 argd, backward has to send back 3 tensors\n",
    "    if last_hidden is None:\n",
    "        hs_chunk = pscan(A_chunk, X_chunk)\n",
    "    else:\n",
    "        hs_chunk = pscan(A_chunk, X_chunk, last_hidden)\n",
    "    last_hidden = hs_chunk[:, -1]\n",
    "\n",
    "    hs_chunks.append(hs_chunk)\n",
    "\n",
    "if remainder > 0:\n",
    "    remainder_start_idx = num_chunks * chunk_size\n",
    "    A_chunk = A_chunks[:, remainder_start_idx:]\n",
    "    X_chunk = X_chunks[:, remainder_start_idx:]\n",
    "\n",
    "    hs_chunk = pscan(A_chunk, X_chunk, last_hidden)\n",
    "\n",
    "    hs_chunks.append(hs_chunk)\n",
    "\n",
    "hs_chunks = torch.cat(hs_chunks, dim=1)\n",
    "\n",
    "J_chunks = hs_chunks.sum()\n",
    "J_chunks.backward()"
   ]
  },
  {
   "cell_type": "code",
   "execution_count": 7,
   "metadata": {},
   "outputs": [
    {
     "name": "stdout",
     "output_type": "stream",
     "text": [
      "True\n",
      "True\n",
      "True\n"
     ]
    }
   ],
   "source": [
    "# checks\n",
    "\n",
    "print(torch.allclose(hs, hs_chunks, atol=0.00001))\n",
    "print(torch.allclose(A.grad, A_chunks.grad, rtol=0.01))\n",
    "print(torch.allclose(X.grad, X_chunks.grad, rtol=0.01))"
   ]
  },
  {
   "cell_type": "code",
   "execution_count": null,
   "metadata": {},
   "outputs": [],
   "source": []
  }
 ],
 "metadata": {
  "kernelspec": {
   "display_name": "torch23",
   "language": "python",
   "name": "python3"
  },
  "language_info": {
   "codemirror_mode": {
    "name": "ipython",
    "version": 3
   },
   "file_extension": ".py",
   "mimetype": "text/x-python",
   "name": "python",
   "nbconvert_exporter": "python",
   "pygments_lexer": "ipython3",
   "version": "3.11.5"
  }
 },
 "nbformat": 4,
 "nbformat_minor": 2
}
