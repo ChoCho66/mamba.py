{
 "cells": [
  {
   "cell_type": "code",
   "execution_count": 1,
   "metadata": {},
   "outputs": [
    {
     "name": "stdout",
     "output_type": "stream",
     "text": [
      "============================================================================================================================================\n",
      "Layer (type:depth-idx)                   Input Shape               Output Shape              Param #                   Trainable\n",
      "============================================================================================================================================\n",
      "SimpleRNN                                [5, 13, 7]                [5, 1]                    --                        True\n",
      "├─RNN: 1-1                               [5, 13, 7]                [5, 13, 10]               410                       True\n",
      "├─Linear: 1-2                            [5, 10]                   [5, 1]                    11                        True\n",
      "============================================================================================================================================\n",
      "Total params: 421\n",
      "Trainable params: 421\n",
      "Non-trainable params: 0\n",
      "Total mult-adds (Units.MEGABYTES): 0.03\n",
      "============================================================================================================================================\n",
      "Input size (MB): 0.00\n",
      "Forward/backward pass size (MB): 0.01\n",
      "Params size (MB): 0.00\n",
      "Estimated Total Size (MB): 0.01\n",
      "============================================================================================================================================\n",
      "Predicted output: tensor([[-0.1884],\n",
      "        [-0.1023],\n",
      "        [-0.1200],\n",
      "        [ 0.0015],\n",
      "        [-0.0869]], device='cuda:0', grad_fn=<AddmmBackward0>)\n"
     ]
    }
   ],
   "source": [
    "import torch\n",
    "import torch.nn as nn\n",
    "import torch.optim as optim\n",
    "from torchinfo import summary\n",
    "\n",
    "# 設定設備\n",
    "device = torch.device(\"cuda\" if torch.cuda.is_available() else \"cpu\")\n",
    "\n",
    "# 超參數\n",
    "input_size = 7  # 單個輸入特徵\n",
    "hidden_size = 10  # RNN 隱藏層大小\n",
    "output_size = 1  # 輸出特徵大小\n",
    "num_layers = 2  # 雙層 RNN\n",
    "\n",
    "# 簡單的 RNN 模型\n",
    "class SimpleRNN(nn.Module):\n",
    "    def __init__(self, input_size, hidden_size, output_size, num_layers):\n",
    "        super(SimpleRNN, self).__init__()\n",
    "        self.rnn = nn.RNN(input_size, hidden_size, num_layers, batch_first=True)\n",
    "        self.fc = nn.Linear(hidden_size, output_size)\n",
    "\n",
    "    def forward(self, x):\n",
    "        out, _ = self.rnn(x)  # RNN 輸出 (batch, seq, hidden)\n",
    "        out = self.fc(out[:, -1, :])  # 只取最後時間步的輸出\n",
    "        return out\n",
    "\n",
    "# 初始化模型、損失函數與優化器\n",
    "model = SimpleRNN(input_size, hidden_size, output_size, num_layers).to(device)\n",
    "criterion = nn.MSELoss()\n",
    "optimizer = optim.Adam(model.parameters(), lr=0.01)\n",
    "\n",
    "# 假設的輸入 (batch_size=5, seq_length=13, input_size=7)\n",
    "x = torch.rand(5, 13, 7).to(device)  # 隨機輸入\n",
    "y_true = torch.rand(5, 1).to(device)  # 目標輸出\n",
    "\n",
    "# 打印模型資訊\n",
    "print(summary(model, input_size=(5, 13, 7), col_names=[\"input_size\", \"output_size\", \"num_params\", \"trainable\"], device=device))\n",
    "\n",
    "# 訓練一步\n",
    "optimizer.zero_grad()\n",
    "y_pred = model(x)\n",
    "loss = criterion(y_pred, y_true)\n",
    "loss.backward()\n",
    "optimizer.step()\n",
    "\n",
    "print(\"Predicted output:\", y_pred)\n"
   ]
  },
  {
   "cell_type": "code",
   "execution_count": 1,
   "metadata": {},
   "outputs": [
    {
     "name": "stdout",
     "output_type": "stream",
     "text": [
      "B: 7\n",
      "L: 201\n",
      "D: 286\n",
      "------------------------------\n",
      "In ResidualBlock\n",
      "x.shape: torch.Size([7, 201, 286])\n",
      "self.norm(x).shape: torch.Size([7, 201, 286])\n",
      "------------------------------\n",
      "------------------------------\n",
      "In MambaBlock\n",
      "torch.Size([7, 572, 201])\n",
      "torch.Size([7, 572, 201])\n",
      "B, L, ED, N, dt_rank: 7 201 572 16 18\n",
      "x.shape, delta.shape, A.shape, B.shape, C.shape, z.shape:\n",
      "torch.Size([7, 201, 572]) torch.Size([7, 201, 572]) torch.Size([572, 16]) torch.Size([7, 201, 16]) torch.Size([7, 201, 16]) torch.Size([7, 201, 572])\n",
      "self.selective_scan\n",
      "------------------------------\n",
      "x.shape: torch.Size([7, 201, 286])\n"
     ]
    }
   ],
   "source": [
    "import torch\n",
    "from mambapy.mamba import Mamba, MambaConfig\n",
    "from torchinfo import summary\n",
    "from c66 import pp\n",
    "\n",
    "# B, L, D = 7, 64, 16\n",
    "B, L, D = 7, 201, 286\n",
    "pp(B,L,D)\n",
    "\n",
    "config = MambaConfig(d_model=D, n_layers=1, use_cuda=False)\n",
    "model = Mamba(config)\n",
    "# .to(\"cuda\")\n",
    "\n",
    "x = torch.randn(B, L, D)\n",
    "# .to(\"cuda\")\n",
    "y = model(x)\n",
    "\n",
    "assert y.shape == x.shape\n",
    "pp(x.shape)"
   ]
  },
  {
   "cell_type": "code",
   "execution_count": 4,
   "metadata": {},
   "outputs": [
    {
     "name": "stdout",
     "output_type": "stream",
     "text": [
      "Mamba(\n",
      "  (layers): ModuleList(\n",
      "    (0): ResidualBlock(\n",
      "      (mixer): MambaBlock(\n",
      "        (in_proj): Linear(in_features=286, out_features=1144, bias=False)\n",
      "        (conv1d): Conv1d(572, 572, kernel_size=(4,), stride=(1,), padding=(3,), groups=572)\n",
      "        (x_proj): Linear(in_features=572, out_features=50, bias=False)\n",
      "        (dt_proj): Linear(in_features=18, out_features=572, bias=True)\n",
      "        (out_proj): Linear(in_features=572, out_features=286, bias=False)\n",
      "      )\n",
      "      (norm): RMSNorm()\n",
      "    )\n",
      "  )\n",
      ")\n"
     ]
    }
   ],
   "source": [
    "print(model)"
   ]
  },
  {
   "cell_type": "code",
   "execution_count": null,
   "metadata": {},
   "outputs": [
    {
     "name": "stdout",
     "output_type": "stream",
     "text": [
      "MambaBlock(\n",
      "  (in_proj): Linear(in_features=286, out_features=1144, bias=False)\n",
      "  (conv1d): Conv1d(572, 572, kernel_size=(4,), stride=(1,), padding=(3,), groups=572)\n",
      "  (x_proj): Linear(in_features=572, out_features=50, bias=False)\n",
      "  (dt_proj): Linear(in_features=18, out_features=572, bias=True)\n",
      "  (out_proj): Linear(in_features=572, out_features=286, bias=False)\n",
      ")\n"
     ]
    }
   ],
   "source": [
    "print(model.layers[0].mixer)"
   ]
  },
  {
   "cell_type": "code",
   "execution_count": null,
   "metadata": {},
   "outputs": [],
   "source": []
  },
  {
   "cell_type": "code",
   "execution_count": null,
   "metadata": {},
   "outputs": [],
   "source": []
  },
  {
   "cell_type": "code",
   "execution_count": 4,
   "metadata": {},
   "outputs": [
    {
     "name": "stdout",
     "output_type": "stream",
     "text": [
      "torch.Size([7, 201, 286])\n",
      "===================================================================================================================\n",
      "Layer (type:depth-idx)                   Input Shape               Output Shape              Param #\n",
      "===================================================================================================================\n",
      "Mamba                                    [7, 201, 286]             [7, 201, 286]             --\n",
      "├─ModuleList: 1-1                        --                        --                        --\n",
      "│    └─ResidualBlock: 2-1                [7, 201, 286]             [7, 201, 286]             --\n",
      "│    │    └─RMSNorm: 3-1                 [7, 201, 286]             [7, 201, 286]             286\n",
      "│    │    └─MambaBlock: 3-2              [7, 201, 286]             [7, 201, 286]             20,592\n",
      "│    │    │    └─Linear: 4-1             [7, 201, 286]             [7, 201, 1144]            327,184\n",
      "│    │    │    └─Conv1d: 4-2             [7, 572, 201]             [7, 572, 204]             2,860\n",
      "│    │    │    └─Linear: 4-3             [7, 201, 572]             [7, 201, 50]              28,600\n",
      "│    │    │    └─Linear: 4-4             [7, 201, 572]             [7, 201, 286]             163,592\n",
      "│    │    └─RMSNorm: 3-3                 [7, 201, 286]             [7, 201, 286]             (recursive)\n",
      "===================================================================================================================\n",
      "Total params: 543,114\n",
      "Trainable params: 543,114\n",
      "Non-trainable params: 0\n",
      "Total mult-adds (Units.MEGABYTES): 7.72\n",
      "===================================================================================================================\n",
      "Input size (MB): 1.61\n",
      "Forward/backward pass size (MB): 29.63\n",
      "Params size (MB): 2.09\n",
      "Estimated Total Size (MB): 33.33\n",
      "===================================================================================================================\n"
     ]
    }
   ],
   "source": [
    "summary_str = summary(model, input_size=[(B,L,D)], depth=5, col_names=(\"input_size\", \"output_size\", \"num_params\"), verbose=0)\n",
    "print(summary_str)"
   ]
  }
 ],
 "metadata": {
  "kernelspec": {
   "display_name": "Python 3",
   "language": "python",
   "name": "python3"
  },
  "language_info": {
   "codemirror_mode": {
    "name": "ipython",
    "version": 3
   },
   "file_extension": ".py",
   "mimetype": "text/x-python",
   "name": "python",
   "nbconvert_exporter": "python",
   "pygments_lexer": "ipython3",
   "version": "3.11.11"
  }
 },
 "nbformat": 4,
 "nbformat_minor": 2
}
