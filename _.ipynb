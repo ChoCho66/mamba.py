{
 "cells": [
  {
   "cell_type": "code",
   "execution_count": 10,
   "metadata": {},
   "outputs": [
    {
     "data": {
      "text/plain": [
       "tensor([[1., 2., 3., 4., 5., 6.],\n",
       "        [1., 2., 3., 4., 5., 6.],\n",
       "        [1., 2., 3., 4., 5., 6.]])"
      ]
     },
     "execution_count": 10,
     "metadata": {},
     "output_type": "execute_result"
    }
   ],
   "source": [
    "import torch\n",
    "A_log = torch.arange(1, 7, dtype=torch.float32).repeat(3, 1)\n",
    "A_log"
   ]
  },
  {
   "cell_type": "code",
   "execution_count": 11,
   "metadata": {},
   "outputs": [
    {
     "data": {
      "text/plain": [
       "tensor([[  -2.7183,   -7.3891,  -20.0855,  -54.5981, -148.4132, -403.4288],\n",
       "        [  -2.7183,   -7.3891,  -20.0855,  -54.5981, -148.4132, -403.4288],\n",
       "        [  -2.7183,   -7.3891,  -20.0855,  -54.5981, -148.4132, -403.4288]])"
      ]
     },
     "execution_count": 11,
     "metadata": {},
     "output_type": "execute_result"
    }
   ],
   "source": [
    "-torch.exp(A_log)"
   ]
  },
  {
   "cell_type": "code",
   "execution_count": 17,
   "metadata": {},
   "outputs": [
    {
     "data": {
      "text/plain": [
       "(torch.Size([1, 3, 8, 5]),\n",
       " tensor([[[[ 0.0149,  1.0620,  0.6860,  1.6200,  0.3817],\n",
       "           [-2.0105, -0.0560,  1.6777, -0.4162,  0.0280],\n",
       "           [-0.7061,  0.9497, -0.5578, -0.6671, -1.9334],\n",
       "           [ 0.5835,  0.6507,  2.4012, -0.5278,  0.9189],\n",
       "           [-0.7883,  0.1590,  0.1658,  1.3018, -1.9521],\n",
       "           [-1.4522,  0.8056, -1.4679,  0.0766, -0.4815],\n",
       "           [ 1.3146,  1.1042, -1.9432,  1.3357, -0.4656],\n",
       "           [ 0.6693,  1.2127, -0.6903,  0.8093,  1.4694]],\n",
       " \n",
       "          [[ 0.5412,  0.5469, -0.1929, -1.2515, -0.0939],\n",
       "           [ 1.1017,  0.3846,  0.2337, -0.2533,  1.0348],\n",
       "           [-0.3566, -1.3161,  0.3550,  1.3334, -0.4789],\n",
       "           [ 0.2777, -1.5053,  1.2255, -0.6829,  1.1664],\n",
       "           [-2.2655,  1.6950, -0.1992,  0.1106, -1.2183],\n",
       "           [-0.0915, -0.9948,  0.0468,  1.3694,  1.6693],\n",
       "           [-1.0273,  1.6018,  0.6709,  0.7325, -0.5703],\n",
       "           [ 0.9582,  0.0840,  0.7547, -0.1533,  0.6270]],\n",
       " \n",
       "          [[ 0.5508,  0.4332,  0.9936, -2.1108, -1.0867],\n",
       "           [ 0.1361, -0.1168,  0.0738,  0.3612, -1.1057],\n",
       "           [-1.1036, -0.1436, -0.8670, -0.5198,  0.0163],\n",
       "           [ 1.4774, -1.1410, -2.1497, -1.0698, -0.4714],\n",
       "           [-2.0247,  0.1042, -1.2118, -0.3458,  0.5070],\n",
       "           [ 0.7127, -1.4453, -0.6017, -0.2623,  1.4755],\n",
       "           [ 0.6963,  2.5779, -1.2298,  0.3921,  0.5733],\n",
       "           [ 0.7261, -0.0950, -1.5572, -0.0260,  0.3328]]]]))"
      ]
     },
     "execution_count": 17,
     "metadata": {},
     "output_type": "execute_result"
    }
   ],
   "source": [
    "import torch\n",
    "A = torch.randn(1,3,8,5)\n",
    "A.shape, A\n",
    "# A.view(B, D, T//2, 2, -1)"
   ]
  },
  {
   "cell_type": "code",
   "execution_count": 18,
   "metadata": {},
   "outputs": [
    {
     "data": {
      "text/plain": [
       "torch.Size([1, 3, 4, 2, 5])"
      ]
     },
     "execution_count": 18,
     "metadata": {},
     "output_type": "execute_result"
    }
   ],
   "source": [
    "A.view(1, 3, 4, 2, -1).shape"
   ]
  },
  {
   "cell_type": "code",
   "execution_count": 27,
   "metadata": {},
   "outputs": [
    {
     "name": "stderr",
     "output_type": "stream",
     "text": [
      "/tmp/ipykernel_275519/326531738.py:1: UserWarning: torch.range is deprecated and will be removed in a future release because its behavior is inconsistent with Python's range builtin. Instead, use torch.arange, which produces values in [start, end).\n",
      "  torch.range(1,100)[1:10:30]\n"
     ]
    },
    {
     "data": {
      "text/plain": [
       "tensor([2.])"
      ]
     },
     "execution_count": 27,
     "metadata": {},
     "output_type": "execute_result"
    }
   ],
   "source": [
    "torch.range(1,100)[1:10:30]"
   ]
  }
 ],
 "metadata": {
  "kernelspec": {
   "display_name": "Python 3",
   "language": "python",
   "name": "python3"
  },
  "language_info": {
   "codemirror_mode": {
    "name": "ipython",
    "version": 3
   },
   "file_extension": ".py",
   "mimetype": "text/x-python",
   "name": "python",
   "nbconvert_exporter": "python",
   "pygments_lexer": "ipython3",
   "version": "3.11.11"
  }
 },
 "nbformat": 4,
 "nbformat_minor": 2
}
