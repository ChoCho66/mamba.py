{
 "cells": [
  {
   "cell_type": "code",
   "execution_count": 1,
   "metadata": {},
   "outputs": [],
   "source": [
    "import torch\n",
    "import math\n",
    "\n",
    "from mambapy.pscan import pscan"
   ]
  },
  {
   "cell_type": "code",
   "execution_count": 2,
   "metadata": {},
   "outputs": [],
   "source": [
    "X = torch.tensor([1, 2, 3, 4, 5, 6, 7, 8, 9])\n",
    "A = torch.tensor([5, 1, 1, 1, 3, 1, 1, 1, 1])\n",
    "h0 = 2"
   ]
  },
  {
   "cell_type": "code",
   "execution_count": 3,
   "metadata": {},
   "outputs": [
    {
     "data": {
      "text/plain": [
       "tensor([11, 13, 16, 20, 65, 71, 78, 86, 95])"
      ]
     },
     "execution_count": 3,
     "metadata": {},
     "output_type": "execute_result"
    }
   ],
   "source": [
    "# pscan\n",
    "\n",
    "X_bis = torch.cat([torch.tensor([h0]), X])\n",
    "A_bis = torch.cat([torch.tensor([1]), A])\n",
    "\n",
    "pscan(A_bis.view(1, -1, 1, 1), X_bis.view(1, -1, 1, 1)).squeeze()[1:]"
   ]
  },
  {
   "cell_type": "code",
   "execution_count": 4,
   "metadata": {},
   "outputs": [
    {
     "data": {
      "text/plain": [
       "tensor([[11, 13, 16, 20, 65, 71, 78, 86, 95]])"
      ]
     },
     "execution_count": 4,
     "metadata": {},
     "output_type": "execute_result"
    }
   ],
   "source": [
    "# sequential\n",
    "\n",
    "h = torch.tensor([h0])\n",
    "hs = []\n",
    "\n",
    "for t in range(X.size(0)):\n",
    "    h = A[t] * h + X[t]\n",
    "    hs.append(h)\n",
    "\n",
    "torch.stack(hs, dim=1)"
   ]
  },
  {
   "cell_type": "code",
   "execution_count": null,
   "metadata": {},
   "outputs": [],
   "source": []
  }
 ],
 "metadata": {
  "kernelspec": {
   "display_name": "torch23",
   "language": "python",
   "name": "python3"
  },
  "language_info": {
   "codemirror_mode": {
    "name": "ipython",
    "version": 3
   },
   "file_extension": ".py",
   "mimetype": "text/x-python",
   "name": "python",
   "nbconvert_exporter": "python",
   "pygments_lexer": "ipython3",
   "version": "3.1.-1"
  }
 },
 "nbformat": 4,
 "nbformat_minor": 2
}
